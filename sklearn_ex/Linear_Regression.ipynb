{
 "cells": [
  {
   "cell_type": "markdown",
   "metadata": {},
   "source": [
    "# Linear Models\n",
    "\n",
    "http://scikit-learn.org/stable/modules/linear_model.html"
   ]
  },
  {
   "cell_type": "markdown",
   "metadata": {},
   "source": [
    "## 1.1.1. Ordinary Least Squares\n",
    "손실을 최소로하는 직선 구하기. 각 값의 에러 제곱의 합이 최소가 되는 값"
   ]
  },
  {
   "cell_type": "code",
   "execution_count": 2,
   "metadata": {},
   "outputs": [
    {
     "data": {
      "text/plain": [
       "array([ 0.5,  0.5])"
      ]
     },
     "execution_count": 2,
     "metadata": {},
     "output_type": "execute_result"
    }
   ],
   "source": [
    "from sklearn import linear_model\n",
    "\n",
    "reg = linear_model.LinearRegression()\n",
    "#http://scikit-learn.org/stable/modules/generated/sklearn.linear_model.LinearRegression.html\n",
    "reg.fit ([[0, 0], [1, 1], [2, 2]], [0, 1, 2]) #x = [[0, 0], [1, 1], [2, 2]], y = [0, 1, 2]\n",
    "#fit( X , y , sample_weight = None )\n",
    "#LinearRegression(copy_X=True, fit_intercept=True, n_jobs=1, normalize=False)\n",
    "reg.coef_ #coef_는 각 feature에 해당하는 weight. #coefficient\n",
    "#reg.intercept_로 bias를 구할 수도 있다."
   ]
  },
  {
   "cell_type": "markdown",
   "metadata": {},
   "source": [
    "## Linear Regression Example"
   ]
  },
  {
   "cell_type": "code",
   "execution_count": 22,
   "metadata": {},
   "outputs": [
    {
     "name": "stdout",
     "output_type": "stream",
     "text": [
      "Coefficients: \n",
      " [ 938.23786125]\n",
      "Mean squared error: 2548.07\n",
      "Variance score: 0.47\n"
     ]
    },
    {
     "data": {
      "image/png": "[encoded data removed]",
      "text/plain": [
       "<matplotlib.figure.Figure at 0x11824bf60>"
      ]
     },
     "metadata": {},
     "output_type": "display_data"
    }
   ],
   "source": [
    "import matplotlib.pyplot as plt\n",
    "import numpy as np\n",
    "from sklearn import datasets, linear_model\n",
    "\n",
    "# Load the diabetes dataset\n",
    "diabetes = datasets.load_diabetes() #당뇨병 데이터 셋 불러오기\n",
    "\n",
    "# Use only one feature\n",
    "diabetes_X = diabetes.data[:, np.newaxis, 2] #각 데이터에서 2번째 인덱스의 값만 추출\n",
    "# np.newaxis : 새로운 축을 추가한다.\n",
    "\n",
    "# 축 추가 전 \n",
    "# array([[ 0.03807591,  0.05068012,  0.06169621,  0.02187235, -0.0442235 ,\n",
    "#         -0.03482076, -0.04340085, -0.00259226,  0.01990842, -0.01764613]])\n",
    "# diabetes.data[:1, 2] : array([ 0.06169621])\n",
    "\n",
    "# 축 추가 후\n",
    "# array([[[ 0.03807591,  0.05068012,  0.06169621,  0.02187235, -0.0442235 ,\n",
    "#          -0.03482076, -0.04340085, -0.00259226,  0.01990842, -0.01764613]]])\n",
    "# diabetes.data[:1, np.newaxis, 2] : array([[ 0.06169621]])\n",
    "# []갯수 확인\n",
    "\n",
    "# Split the data into training/testing sets\n",
    "diabetes_X_train = diabetes_X[:-20] #20개를 뺀 나머지로 트레인\n",
    "diabetes_X_test = diabetes_X[-20:] #20개로 테스트\n",
    "#위에서 축을 추가했기에 2차원 배열. 추가하지 않고 그냥 split하면 각 배열이 1차원으로 된다. \n",
    "#fit()함수에 맞추기 위해 축을 추가한다.\n",
    "\n",
    "# Split the targets into training/testing sets\n",
    "diabetes_y_train = diabetes.target[:-20] #20개를 뺀 나머지로 트레인\n",
    "diabetes_y_test = diabetes.target[-20:] #20개로 테스트\n",
    "\n",
    "# Create linear regression object\n",
    "regr = linear_model.LinearRegression() #모델 생성\n",
    "\n",
    "# Train the model using the training sets\n",
    "regr.fit(diabetes_X_train, diabetes_y_train) #train_x, train_y로 모델 학습.\n",
    "#fit 함수에 맞추기 위해 위에서 축 추가\n",
    "#fit( X , y , sample_weight = None )\n",
    "\n",
    "# The coefficients\n",
    "print('Coefficients: \\n', regr.coef_) #가중치 값 출력. input이 하나이기에 여기선 coef_ 반환값도 하나\n",
    "\n",
    "# The mean squared error\n",
    "print(\"Mean squared error: %.2f\"\n",
    "      % np.mean((regr.predict(diabetes_X_test) - diabetes_y_test) ** 2))\n",
    "#오차 제곱의 평균.\n",
    "#regr.predict(diabetes_X_test)의 값으로 예측 값 배열을 받아와 각 정답레이블과의 오차를 구하고 제곱해 평균.\n",
    "\n",
    "# Explained variance score: 1 is perfect prediction\n",
    "print('Variance score: %.2f' % regr.score(diabetes_X_test, diabetes_y_test)) \n",
    "#score(X, y[, sample_weight]) : R2 점수를 반환한다. 1이 max\n",
    "\n",
    "# Plot outputs\n",
    "plt.scatter(diabetes_X_test, diabetes_y_test, color='black') \n",
    "#x축: diabetes_X_test, y축: diabetes_y_test으로 scatter 차트\n",
    "plt.plot(diabetes_X_test, regr.predict(diabetes_X_test), color='blue',\n",
    "         linewidth=3)\n",
    "#x축: diabetes_X_test, y축: regr.predict(diabetes_X_test)으로 line 그리기\n",
    "\n",
    "plt.xticks(()) #x축 지표 표시 : 빈 칸으로 두면 없앤다. \n",
    "plt.yticks(()) #y축 지표 표시 : 빈 칸으로 두면 없앤다.\n",
    "\n",
    "plt.show()"
   ]
  },
  {
   "cell_type": "code",
   "execution_count": null,
   "metadata": {
    "collapsed": true
   },
   "outputs": [],
   "source": []
  }
 ],
 "metadata": {
  "kernelspec": {
   "display_name": "Python 3",
   "language": "python",
   "name": "python3"
  },
  "language_info": {
   "codemirror_mode": {
    "name": "ipython",
    "version": 3
   },
   "file_extension": ".py",
   "mimetype": "text/x-python",
   "name": "python",
   "nbconvert_exporter": "python",
   "pygments_lexer": "ipython3",
   "version": "3.6.0"
  }
 },
 "nbformat": 4,
 "nbformat_minor": 2
}
