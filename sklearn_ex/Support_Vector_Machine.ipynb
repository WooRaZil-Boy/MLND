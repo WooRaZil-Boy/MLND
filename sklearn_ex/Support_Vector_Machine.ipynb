{
 "cells": [
  {
   "cell_type": "markdown",
   "metadata": {},
   "source": [
    "# 1.4. Support Vector Machines\n",
    "http://scikit-learn.org/stable/modules/svm.html"
   ]
  },
  {
   "cell_type": "markdown",
   "metadata": {},
   "source": [
    "## 1.4.1. Classification"
   ]
  },
  {
   "cell_type": "code",
   "execution_count": 2,
   "metadata": {},
   "outputs": [
    {
     "data": {
      "text/plain": [
       "SVC(C=1.0, cache_size=200, class_weight=None, coef0=0.0,\n",
       "  decision_function_shape=None, degree=3, gamma='auto', kernel='rbf',\n",
       "  max_iter=-1, probability=False, random_state=None, shrinking=True,\n",
       "  tol=0.001, verbose=False)"
      ]
     },
     "execution_count": 2,
     "metadata": {},
     "output_type": "execute_result"
    }
   ],
   "source": [
    "from sklearn import svm #SVM 로드\n",
    "\n",
    "X = [[0, 0], [1, 1]]\n",
    "y = [0, 1]\n",
    "\n",
    "clf = svm.SVC()\n",
    "#http://scikit-learn.org/stable/modules/generated/sklearn.svm.SVC.html#sklearn.svm.SVC\n",
    "clf.fit(X, y) #fit으로 학습. (input, label)"
   ]
  },
  {
   "cell_type": "code",
   "execution_count": 3,
   "metadata": {},
   "outputs": [
    {
     "data": {
      "text/plain": [
       "array([1])"
      ]
     },
     "execution_count": 3,
     "metadata": {},
     "output_type": "execute_result"
    }
   ],
   "source": [
    "clf.predict([[2., 2.]]) #1로 예측 (Classification)\n",
    "#학습 이후엔 예측 모델로 활용할 수 있다."
   ]
  },
  {
   "cell_type": "markdown",
   "metadata": {},
   "source": [
    "SVMs 결정 함수는 지원 벡터라고 불리는 훈련 데이터의 세트에 의존한다. 이러한 지원 벡터의 속성을 support_vectors_, support_, n_support등으로 확인해 볼 수 있다."
   ]
  },
  {
   "cell_type": "code",
   "execution_count": 4,
   "metadata": {},
   "outputs": [
    {
     "data": {
      "text/plain": [
       "array([[ 0.,  0.],\n",
       "       [ 1.,  1.]])"
      ]
     },
     "execution_count": 4,
     "metadata": {},
     "output_type": "execute_result"
    }
   ],
   "source": [
    "# get support vectors\n",
    "clf.support_vectors_ #벡터 출력"
   ]
  },
  {
   "cell_type": "code",
   "execution_count": 5,
   "metadata": {},
   "outputs": [
    {
     "data": {
      "text/plain": [
       "array([0, 1], dtype=int32)"
      ]
     },
     "execution_count": 5,
     "metadata": {},
     "output_type": "execute_result"
    }
   ],
   "source": [
    "# get indices of support vectors\n",
    "clf.support_ #벡터 인덱스 출력"
   ]
  },
  {
   "cell_type": "code",
   "execution_count": 6,
   "metadata": {},
   "outputs": [
    {
     "data": {
      "text/plain": [
       "array([1, 1], dtype=int32)"
      ]
     },
     "execution_count": 6,
     "metadata": {},
     "output_type": "execute_result"
    }
   ],
   "source": [
    "# get number of support vectors for each class\n",
    "clf.n_support_  #각 벡터 클래스의 수 출력"
   ]
  },
  {
   "cell_type": "markdown",
   "metadata": {},
   "source": [
    "## 1.4.1.1. Multi-class classification\n",
    "\n",
    "n_class에서 n_class * (n_class - 1) / 2 만큼의 분류자가 생성된다.\n",
    "\n",
    "분류자의 인터페이스를 제공하기 위해 decision_function_shape 옵션을 사용할 수 있다."
   ]
  },
  {
   "cell_type": "code",
   "execution_count": 7,
   "metadata": {},
   "outputs": [
    {
     "data": {
      "text/plain": [
       "SVC(C=1.0, cache_size=200, class_weight=None, coef0=0.0,\n",
       "  decision_function_shape='ovo', degree=3, gamma='auto', kernel='rbf',\n",
       "  max_iter=-1, probability=False, random_state=None, shrinking=True,\n",
       "  tol=0.001, verbose=False)"
      ]
     },
     "execution_count": 7,
     "metadata": {},
     "output_type": "execute_result"
    }
   ],
   "source": [
    "X = [[0], [1], [2], [3]]\n",
    "Y = [0, 1, 2, 3]\n",
    "\n",
    "clf = svm.SVC(decision_function_shape='ovo')\n",
    "#decision_function_shape : ‘ovo’, ‘ovr’ or None, default=None\n",
    "#분류자로 1 대 vs 나머지 ('ovr') 결정 함수로 반환할지, :: (n_samples, n_classes) \n",
    "#libsvm의 원래 one-vs-one ('ovo') 결정 함수를 반환할지. :: (n_samples, n_classes * (n_classes - 1) / 2)\n",
    "#None의 기본값은 현재 이전 버전과의 호환성을 위해 'ovo'로 작동\n",
    "\n",
    "clf.fit(X, Y) #데이터 학습\n",
    "clf"
   ]
  },
  {
   "cell_type": "code",
   "execution_count": 8,
   "metadata": {},
   "outputs": [
    {
     "data": {
      "text/plain": [
       "6"
      ]
     },
     "execution_count": 8,
     "metadata": {},
     "output_type": "execute_result"
    }
   ],
   "source": [
    "dec = clf.decision_function([[1]])\n",
    "#decision_function(X) : X와 분리된 초 평면과의 거리를 반환\n",
    "dec.shape[1] # 4 classes: 4*3/2 = 6 #OVO"
   ]
  },
  {
   "cell_type": "code",
   "execution_count": 9,
   "metadata": {},
   "outputs": [
    {
     "data": {
      "text/plain": [
       "4"
      ]
     },
     "execution_count": 9,
     "metadata": {},
     "output_type": "execute_result"
    }
   ],
   "source": [
    "clf.decision_function_shape = \"ovr\"\n",
    "dec = clf.decision_function([[1]])\n",
    "#decision_function(X) : X와 분리된 초 평면과의 거리를 반환\n",
    "dec.shape[1] # 4 classes #OVR"
   ]
  },
  {
   "cell_type": "markdown",
   "metadata": {
    "collapsed": true
   },
   "source": [
    "LinearSVC는 \"one-vs-the-rest\"다중 클래스 전략을 구현하여 n_class 모델을 학습한다. 클래스가 두 개인 경우 하나의 모델만 학습"
   ]
  },
  {
   "cell_type": "code",
   "execution_count": 10,
   "metadata": {},
   "outputs": [
    {
     "data": {
      "text/plain": [
       "4"
      ]
     },
     "execution_count": 10,
     "metadata": {},
     "output_type": "execute_result"
    }
   ],
   "source": [
    "lin_clf = svm.LinearSVC()\n",
    "lin_clf.fit(X, Y) #학습\n",
    "\n",
    "dec = lin_clf.decision_function([[1]])\n",
    "#decision_function(X) : X와 분리된 초 평면과의 거리를 반환\n",
    "dec.shape[1]"
   ]
  },
  {
   "cell_type": "markdown",
   "metadata": {},
   "source": [
    "## Support Vector Machine Example"
   ]
  },
  {
   "cell_type": "code",
   "execution_count": 12,
   "metadata": {},
   "outputs": [
    {
     "data": {
      "image/png": "[encoded data removed]",
      "text/plain": [
       "<matplotlib.figure.Figure at 0x117bc6a90>"
      ]
     },
     "metadata": {},
     "output_type": "display_data"
    }
   ],
   "source": [
    "import numpy as np\n",
    "import matplotlib.pyplot as plt\n",
    "from sklearn import svm, datasets\n",
    "\n",
    "# import some data to play with\n",
    "iris = datasets.load_iris() #iris 데이터 셋을 불러 온다.\n",
    "X = iris.data[:, :2]  # we only take the first two features. We could\n",
    "                      # avoid this ugly slicing by using a two-dim dataset\n",
    "#각 행의 0, 1번째 데이터들(:2)만 불러와 트레이닝 데이터로 한다.\n",
    "    \n",
    "y = iris.target #정답 레이블\n",
    "#행의 수는 변하지 않았으므로 (단지 분류자가 4개였던 것을 2개로 줄였을 뿐)\n",
    "\n",
    "h = .02  # step size in the mesh\n",
    "\n",
    "# we create an instance of SVM and fit out data. We do not scale our\n",
    "# data since we want to plot the support vectors\n",
    "C = 1.0  # SVM regularization parameter\n",
    "svc = svm.SVC(kernel='linear', C=C).fit(X, y) #학습\n",
    "rbf_svc = svm.SVC(kernel='rbf', gamma=0.7, C=C).fit(X, y)\n",
    "poly_svc = svm.SVC(kernel='poly', degree=3, C=C).fit(X, y)\n",
    "lin_svc = svm.LinearSVC(C=C).fit(X, y)\n",
    "#http://scikit-learn.org/stable/modules/generated/sklearn.svm.SVC.html\n",
    "\n",
    "#kernel : string, optional (default=’rbf’)\n",
    "#kernel로 알고리즘에서 사용할 커널 유형 지정.\n",
    "#‘linear’(straight line, 직선), ‘poly’, ‘rbf’(boundry, 계단식 직선), ‘sigmoid’, ‘precomputed’, 'callable'. default는 rbf\n",
    "\n",
    "#C : float, optional (default=1.0)\n",
    "#오류에서의 패널티 파라미터. 매끄러운 결정 경계를 정확하게 분류하는 훈련점 사이의 균형을 조정한다.\n",
    "#C가 클수록 학습점에 맞게 더 구불거리도록 그려진다.\n",
    "\n",
    "#gamma : float, optional (default=’auto’)\n",
    "#'rbf', 'poly'및 'sigmoid'에 대한 커널 계수. 감마가 'auto'이면 1 / n_features가 대신 사용된다.\n",
    "#학습점의 영향력이 어떻게 미치게 되는지.\n",
    "#감마가 작을수록 직선에 가까워지고(멀리 떨어진 학습점이 영향을 끼친다), 감마가 클수록 곡선모양이 된다.(가까운 학습점이 영향을 끼친다)\n",
    "\n",
    "#degree : int, optional (default=3)\n",
    "#커널이 다항('poly')일 경우 함수의 차수. 다른 커널에서는 무시된다.\n",
    "\n",
    "# create a mesh to plot in\n",
    "x_min, x_max = X[:, 0].min() - 1, X[:, 0].max() + 1 #첫 번째 요소의 최소값 - 1, 첫 번째 요소의 최대값 + 1\n",
    "y_min, y_max = X[:, 1].min() - 1, X[:, 1].max() + 1 #두 번재 요소의 최소값 - 1, 두 번재 요소의 최대값 + 1\n",
    "xx, yy = np.meshgrid(np.arange(x_min, x_max, h), #위에서 생성한 최소, 최대값 사이를 plot_step만큼 증가하는 배열 생성\n",
    "                     np.arange(y_min, y_max, h)) #위에서 생성한 최소, 최대값 사이를 plot_step만큼 증가하는 배열 생성\n",
    "#https://datascienceschool.net/view-notebook/17608f897087478bbeac096438c716f6/\n",
    "#메쉬그리드로 각 값이 이루는 조합의 그리드 생성\n",
    "\n",
    "# title for the plots\n",
    "titles = ['SVC with linear kernel',\n",
    "          'LinearSVC (linear kernel)',\n",
    "          'SVC with RBF kernel',\n",
    "          'SVC with polynomial (degree 3) kernel']\n",
    "\n",
    "for i, clf in enumerate((svc, lin_svc, rbf_svc, poly_svc)): #각 모델별로 결과값 출력\n",
    "    # Plot the decision boundary. For that, we will assign a color to each\n",
    "    # point in the mesh [x_min, x_max]x[y_min, y_max].\n",
    "    plt.subplot(2, 2, i + 1)\n",
    "    plt.subplots_adjust(wspace=0.4, hspace=0.4)\n",
    "\n",
    "    Z = clf.predict(np.c_[xx.ravel(), yy.ravel()])\n",
    "    #np.ravel() : 인접한 배열을 병합해서 1차원으로 반환\n",
    "    #https://docs.scipy.org/doc/numpy-1.12.0/reference/generated/numpy.ravel.html\n",
    "    \n",
    "    #np.c_ : 파라미터의 배열을 합친다.\n",
    "    #https://docs.scipy.org/doc/numpy-1.12.0/reference/generated/numpy.c_.html\n",
    "\n",
    "    # Put the result into a color plot\n",
    "    Z = Z.reshape(xx.shape)\n",
    "    plt.contourf(xx, yy, Z, cmap=plt.cm.coolwarm, alpha=0.8)\n",
    "\n",
    "    # Plot also the training points\n",
    "    plt.scatter(X[:, 0], X[:, 1], c=y, cmap=plt.cm.coolwarm)\n",
    "    plt.xlabel('Sepal length')\n",
    "    plt.ylabel('Sepal width')\n",
    "    plt.xlim(xx.min(), xx.max())\n",
    "    plt.ylim(yy.min(), yy.max())\n",
    "    plt.xticks(())\n",
    "    plt.yticks(())\n",
    "    plt.title(titles[i])\n",
    "\n",
    "plt.show()"
   ]
  },
  {
   "cell_type": "code",
   "execution_count": null,
   "metadata": {
    "collapsed": true
   },
   "outputs": [],
   "source": []
  }
 ],
 "metadata": {
  "kernelspec": {
   "display_name": "Python 3",
   "language": "python",
   "name": "python3"
  },
  "language_info": {
   "codemirror_mode": {
    "name": "ipython",
    "version": 3
   },
   "file_extension": ".py",
   "mimetype": "text/x-python",
   "name": "python",
   "nbconvert_exporter": "python",
   "pygments_lexer": "ipython3",
   "version": "3.6.0"
  }
 },
 "nbformat": 4,
 "nbformat_minor": 2
}
